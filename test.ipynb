{
 "cells": [
  {
   "cell_type": "code",
   "execution_count": 5,
   "metadata": {},
   "outputs": [
    {
     "name": "stdout",
     "output_type": "stream",
     "text": [
      "[\"Shareholding Pattern Numbers in percentages Quarterly Yearly Trades Sep 2021Dec 2021Mar 2022Jun 2022Sep 2022Dec 2022Mar 2023Jun 2023Sep 2023Dec 2023Mar 2024Jun 2024 Promoters+ 75.00% 75.00% 75.00% 75.00% 75.00% 75.00% 75.00% 75.00% 75.00% 75.00% 75.00% 75.00% FIIs+ 3.49% 3.76% 3.68% 3.53% 5.39% 7.55% 8.45% 9.46% 10.18% 10.72% 11.89% 12.06% DIIs+ 6.96% 8.03% 8.22% 8.59% 11.89% 9.73% 8.98% 8.07% 7.37% 6.92% 5.95% 5.64% Public+ 14.55% 13.21% 13.10% 12.88% 7.69% 7.71% 7.56% 7.48% 7.47% 7.36% 7.15% 7.29% No. of Shareholders 78,99680,46483,18789,7391,05,20597,7571,06,3961,09,4351,12,3991,02,0931,02,5571,32,505 * The classifications might have changed from Sep'2022 onwards. The new XBRL format added more details from Sep'22 onwards. Classifications such as banks and foreign portfolio investors were not available earlier. The sudden changes in FII or DII can be because of these changes. Click on the line-items to see the names of individual entities.\"]\n"
     ]
    }
   ],
   "source": [
    "import re\n",
    "\n",
    "# Load the file content\n",
    "with open('shareholder.txt', 'r', encoding='utf-8') as file:\n",
    "    htmldata = file.read()\n",
    "\n",
    "# Step 1: Replace empty cells with 0\n",
    "htmldata = htmldata.replace('<td class=\"\">\\n</td>', '<td class=\"\">\\n          0\\n        </td>')\n",
    "\n",
    "# Step 2: Remove all HTML tags\n",
    "cleanr = re.compile('<.*?>')\n",
    "allData = re.sub(cleanr, '', htmldata)\n",
    "\n",
    "# Step 3: Replace non-breaking spaces\n",
    "allData = allData.replace(u'\\xa0', '')\n",
    "\n",
    "# Step 4: Clean up specific newlines and multiple spaces with a single space\n",
    "allData = re.sub(r'\\s+', ' ', allData)\n",
    "\n",
    "# Step 5: Split the data by specific markers to identify columns and rows\n",
    "# Using '</tr>' to split rows and '</td>' to split columns within rows\n",
    "rows = allData.split('</tr>')\n",
    "data = []\n",
    "for row in rows:\n",
    "    columns = row.split('</td>')\n",
    "    clean_columns = [col.strip() for col in columns if col.strip()]\n",
    "    if clean_columns:\n",
    "        data.append(clean_columns)\n",
    "\n",
    "# Flatten the list of lists into a single list and join with commas\n",
    "flat_list = [item for sublist in data for item in sublist]\n",
    "\n",
    "# Print the cleaned list\n",
    "print(flat_list)\n"
   ]
  },
  {
   "cell_type": "code",
   "execution_count": null,
   "metadata": {},
   "outputs": [],
   "source": [
    "from bs4 import BeautifulSoup\n",
    "with open('shareholder.txt', 'r', encoding='utf-8') as file:\n",
    "    htmldata = file.read()\n",
    "thead = htmldata.find(\"thead\")\n",
    "th_elements = soup.find_all('th')\n",
    "DateBList = [th.text for th in th_elements if th.text.strip()]"
   ]
  },
  {
   "cell_type": "code",
   "execution_count": 6,
   "metadata": {},
   "outputs": [
    {
     "data": {
      "text/plain": [
       "['Promoters',\n",
       " '75.00%',\n",
       " '75.00%',\n",
       " '75.00%',\n",
       " '75.00%',\n",
       " '75.00%',\n",
       " '75.00%',\n",
       " '75.00%',\n",
       " '75.00%',\n",
       " '75.00%',\n",
       " '75.00%',\n",
       " '75.00%',\n",
       " '75.00%']"
      ]
     },
     "execution_count": 6,
     "metadata": {},
     "output_type": "execute_result"
    }
   ],
   "source": [
    "a = ['ShareholdingPattern', 'Numbersinpercentages', 'Quarterly', 'Yearly', 'Trades', 'Sep2021Dec2021Mar2022Jun2022Sep2022Dec2022Mar2023Jun2023Sep2023Dec2023Mar2024Jun2024', 'Promoters', '75.00%', '75.00%', '75.00%', '75.00%', '75.00%', '75.00%', '75.00%', '75.00%', '75.00%', '75.00%', '75.00%', '75.00%', 'FIIs', '3.49%', '3.76%', '3.68%', '3.53%', '5.39%', '7.55%', '8.45%', '9.46%', '10.18%', '10.72%', '11.89%', '12.06%', 'DIIs', '6.96%', '8.03%', '8.22%', '8.59%', '11.89%', '9.73%', '8.98%', '8.07%', '7.37%', '6.92%', '5.95%', '5.64%', 'Public', '14.55%', '13.21%', '13.10%', '12.88%', '7.69%', '7.71%', '7.56%', '7.48%', '7.47%', '7.36%', '7.15%', '7.29%', 'No.ofShareholders']\n",
    "a[6:19]"
   ]
  }
 ],
 "metadata": {
  "kernelspec": {
   "display_name": "Python 3",
   "language": "python",
   "name": "python3"
  },
  "language_info": {
   "codemirror_mode": {
    "name": "ipython",
    "version": 3
   },
   "file_extension": ".py",
   "mimetype": "text/x-python",
   "name": "python",
   "nbconvert_exporter": "python",
   "pygments_lexer": "ipython3",
   "version": "3.12.2"
  }
 },
 "nbformat": 4,
 "nbformat_minor": 2
}
